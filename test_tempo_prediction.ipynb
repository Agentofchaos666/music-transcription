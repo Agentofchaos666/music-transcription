{
 "cells": [
  {
   "cell_type": "code",
   "execution_count": 6,
   "metadata": {
    "collapsed": true
   },
   "outputs": [],
   "source": [
    "from tempo_detector import TempoDetector\n",
    "import io_utils\n",
    "import matplotlib.pyplot as plt"
   ]
  },
  {
   "cell_type": "code",
   "execution_count": 41,
   "metadata": {
    "collapsed": true
   },
   "outputs": [],
   "source": [
    "TEST_BUCKETS = [(1.0/64,), (1.0/32,), (1.0/32, 'd'), (1.0/32, 't'), (1.0/16, 'd'), (1.0/16, 't'), (1.0/16,),\n",
    "                (1.0/8, 'd'), (1.0/8, 't'), (1.0/8,),\n",
    "                (1.0/4, 'd'), (1.0/4, 't'), (1.0/4,),\n",
    "                (1.0/2, 'd'), (1.0/2,),\n",
    "                (1.0,), (2.0,), (3.0,), (4.0,), (5.0,)]\n",
    "\n",
    "# SIMPLE_BUCKETS = TEST_BUCKETS\n",
    "SIMPLE_BUCKETS = [(1.0/32,),  (1.0/16, 't'), (1.0/16, 'd'), (1.0/16,),\n",
    "                (1.0/8, 'd'), (1.0/8, 't'), (1.0/8,),\n",
    "                (1.0/4, 'd'), (1.0/4, 't'), (1.0/4,),\n",
    "                (1.0/2, 'd'), (1.0/2,),\n",
    "                (1.0,)]"
   ]
  },
  {
   "cell_type": "code",
   "execution_count": 12,
   "metadata": {
    "collapsed": true
   },
   "outputs": [],
   "source": [
    "# DIRS = ['debussy', 'mozart', 'beeth', 'chopin', 'grieg', 'mendelssohn', 'borodin', 'bach']\n",
    "DIRS = ['mozart']\n",
    "OUTPUT_DIR = 'predicted_tempos'\n",
    "START_TEMPOS = range(40, 200, 10)"
   ]
  },
  {
   "cell_type": "code",
   "execution_count": 16,
   "metadata": {
    "collapsed": true
   },
   "outputs": [],
   "source": [
    "def predictTempos(E_time_mat, detector):\n",
    "    predicted_tempos = []\n",
    "    for i in range(len(E_time_mat)):\n",
    "        if i % 5 == 0:\n",
    "            print i, '/', len(E_time_mat)\n",
    "        detector.setBuckets(TEST_BUCKETS)\n",
    "        candidates_with_losses = [detector.predict(E_time_mat[i], t, detector.linearDistanceFunction, \\\n",
    "                            detector.linearDistanceFunctionGradient, lambda x: 1) for t in START_TEMPOS]\n",
    "        candidates_with_losses = list(set(candidates_with_losses))\n",
    "        print candidates_with_losses\n",
    "        candidates = [c for c, l in candidates_with_losses]\n",
    "        E_pred_mat, sigs = io_utils.generatePredictedTempoMatrix(filenames[i], TEST_BUCKETS, candidates)\n",
    "        detector.setBuckets(SIMPLE_BUCKETS)\n",
    "        candidates_bucketed_loss = [(c, detector.computeLoss(c, E_time_mat[i], detector.logDistanceFunction)) \\\n",
    "                                       for c in candidates]\n",
    "        tempo_options = sorted(candidates_bucketed_loss, key=lambda x: x[1])\n",
    "        print tempo_options\n",
    "        selected_tempo = tempo_options[0][0]\n",
    "        predicted_tempos.append(selected_tempo)\n",
    "    return predicted_tempos"
   ]
  },
  {
   "cell_type": "code",
   "execution_count": 38,
   "metadata": {},
   "outputs": [],
   "source": [
    "def compareTempos(predicted_tempos, actual_tempos):\n",
    "    comparison = []\n",
    "    predicted_tempos = [int(t) for t in predicted_tempos]\n",
    "    actual_tempos = [int(t) for t in actual_tempos]\n",
    "    for i in range(len(predicted_tempos)):\n",
    "        absolute_diff = abs(predicted_tempos[i] - actual_tempos[i])\n",
    "        pred_over_actual = predicted_tempos[i] / actual_tempos[i]\n",
    "        if pred_over_actual > 0:\n",
    "            scale = pred_over_actual\n",
    "            scaled_diff = min(abs(predicted_tempos[i] - actual_tempos[i] * scale), \\\n",
    "                              abs(predicted_tempos[i] - actual_tempos[i] * (scale+1)))\n",
    "        else:\n",
    "            scale = actual_tempos[i] / predicted_tempos[i]\n",
    "            scaled_diff = min(abs(actual_tempos[i] - scale * predicted_tempos[i]), \\\n",
    "                              abs(actual_tempos[i] - (scale+1) * predicted_tempos[i]))\n",
    "        comparison.append((absolute_diff, scale, scaled_diff, predicted_tempos[i], actual_tempos[i]))\n",
    "    return comparison"
   ]
  },
  {
   "cell_type": "code",
   "execution_count": 43,
   "metadata": {},
   "outputs": [
    {
     "name": "stdout",
     "output_type": "stream",
     "text": [
      "[25.0, 50.0, 75.0, 33.33333333333333, 150.0, 66.66666666666666, 100.0, 300.0, 133.33333333333331, 200.0, 600.0, 266.66666666666663, 400.0, 1200.0, 800.0, 1600.0, 3200.0, 4800.0, 6400.0, 8000.0]\n",
      "0 / 5\n",
      "[(163, 1254240), (85, 795932), (129, 3497337)]\n",
      "[(163, 1811.1607723235422), (129, 2426.4752545231345), (85, 3713.7985184509175)]\n",
      "[(92, 506809), (182, 1863736), (47, 214416), (135, 909056), (68, 261512)]\n",
      "[(182, 27.19060561763219), (135, 79.5640410584953), (92, 201.14251304146313), (68, 339.13324404731304), (47, 566.3764798157503)]\n",
      "[(110, 115212), (55, 103717), (216, 239782), (75, 102547), (147, 145651)]\n",
      "[(216, 238.2181042948112), (147, 412.44793069206804), (110, 590.8298135969596), (75, 880.0300145549487), (55, 1267.729659448235)]\n",
      "[(140, 1153901), (204, 687583), (105, 314607)]\n",
      "[(204, 697.1016126625676), (140, 1198.8299226451913), (105, 1694.9221787178797)]\n",
      "[(156, 2271794), (114, 1068533), (223, 2534114), (81, 719812)]\n",
      "[(223, 1327.1418565200472), (156, 2173.875430184965), (114, 3111.259406304987), (81, 4291.340517220714)]\n"
     ]
    }
   ],
   "source": [
    "E_time_mat, tempos, filenames = io_utils.generateTempoPredictionData(DIRS)\n",
    "detector = TempoDetector(TEST_BUCKETS)\n",
    "predicted_tempos = predictTempos(E_time_mat[:5], detector)"
   ]
  },
  {
   "cell_type": "code",
   "execution_count": 44,
   "metadata": {},
   "outputs": [],
   "source": [
    "comparison = compareTempos(predicted_tempos, tempos)"
   ]
  },
  {
   "cell_type": "code",
   "execution_count": 45,
   "metadata": {},
   "outputs": [
    {
     "name": "stdout",
     "output_type": "stream",
     "text": [
      "[(4, 1, 4, 163, 159), (136, 3, 2, 182, 46), (70, 1, 70, 216, 146), (70, 1, 64, 204, 134), (73, 1, 73, 223, 150)]\n"
     ]
    }
   ],
   "source": [
    "print comparison"
   ]
  },
  {
   "cell_type": "code",
   "execution_count": 49,
   "metadata": {},
   "outputs": [
    {
     "name": "stdout",
     "output_type": "stream",
     "text": [
      "['mozart/mz_570_1.mid', 'mozart/mz_570_2.mid', 'mozart/mz_570_3.mid', 'mozart/mz_545_1.mid', 'mozart/mz_332_3.mid', 'mozart/mz_330_1.mid', 'mozart/mz_332_2.mid', 'mozart/mz_545_2.mid', 'mozart/mz_330_2.mid', 'mozart/mz_330_3.mid', 'mozart/mz_332_1.mid', 'mozart/mz_545_3.mid', 'mozart/mz_331_2.mid', 'mozart/mz_333_1.mid', 'mozart/mz_331_3.mid', 'mozart/mz_331_1.mid', 'mozart/mz_333_3.mid', 'mozart/mz_333_2.mid', 'mozart/mz_311_1.mid', 'mozart/mz_311_2.mid', 'mozart/mz_311_3.mid']\n"
     ]
    }
   ],
   "source": [
    "print filenames"
   ]
  },
  {
   "cell_type": "code",
   "execution_count": 48,
   "metadata": {},
   "outputs": [
    {
     "ename": "NameError",
     "evalue": "name 'E_pred_mat' is not defined",
     "output_type": "error",
     "traceback": [
      "\u001b[0;31m---------------------------------------------------------------------------\u001b[0m",
      "\u001b[0;31mNameError\u001b[0m                                 Traceback (most recent call last)",
      "\u001b[0;32m<ipython-input-48-2fcb2e9624cb>\u001b[0m in \u001b[0;36m<module>\u001b[0;34m()\u001b[0m\n\u001b[1;32m      1\u001b[0m \u001b[0;32mfor\u001b[0m \u001b[0mi\u001b[0m \u001b[0;32min\u001b[0m \u001b[0mrange\u001b[0m\u001b[0;34m(\u001b[0m\u001b[0mlen\u001b[0m\u001b[0;34m(\u001b[0m\u001b[0mpredicted_tempos\u001b[0m\u001b[0;34m)\u001b[0m\u001b[0;34m)\u001b[0m\u001b[0;34m:\u001b[0m\u001b[0;34m\u001b[0m\u001b[0m\n\u001b[0;32m----> 2\u001b[0;31m             \u001b[0mio_utils\u001b[0m\u001b[0;34m.\u001b[0m\u001b[0meventListToMIDI\u001b[0m\u001b[0;34m(\u001b[0m\u001b[0mE_pred_mat\u001b[0m\u001b[0;34m[\u001b[0m\u001b[0mi\u001b[0m\u001b[0;34m]\u001b[0m\u001b[0;34m,\u001b[0m \u001b[0mSIMPLE_BUCKETS\u001b[0m\u001b[0;34m,\u001b[0m \u001b[0;36m400\u001b[0m\u001b[0;34m,\u001b[0m                 \u001b[0mint\u001b[0m\u001b[0;34m(\u001b[0m\u001b[0mpredicted_tempos\u001b[0m\u001b[0;34m[\u001b[0m\u001b[0mi\u001b[0m\u001b[0;34m]\u001b[0m\u001b[0;34m)\u001b[0m\u001b[0;34m,\u001b[0m \u001b[0mfilenames\u001b[0m\u001b[0;34m[\u001b[0m\u001b[0mi\u001b[0m\u001b[0;34m]\u001b[0m\u001b[0;34m[\u001b[0m\u001b[0;34m:\u001b[0m\u001b[0;34m-\u001b[0m\u001b[0;36m4\u001b[0m\u001b[0;34m]\u001b[0m \u001b[0;34m+\u001b[0m \u001b[0;34m'_'\u001b[0m \u001b[0;34m+\u001b[0m \u001b[0mstr\u001b[0m\u001b[0;34m(\u001b[0m\u001b[0mpredicted_tempos\u001b[0m\u001b[0;34m[\u001b[0m\u001b[0mi\u001b[0m\u001b[0;34m]\u001b[0m\u001b[0;34m)\u001b[0m \u001b[0;34m+\u001b[0m \u001b[0;34m'.mid'\u001b[0m\u001b[0;34m,\u001b[0m \u001b[0mOUTPUT_DIR\u001b[0m\u001b[0;34m,\u001b[0m \u001b[0mtimeSig\u001b[0m\u001b[0;34m=\u001b[0m\u001b[0msigs\u001b[0m\u001b[0;34m[\u001b[0m\u001b[0mi\u001b[0m\u001b[0;34m]\u001b[0m\u001b[0;34m[\u001b[0m\u001b[0;36m0\u001b[0m\u001b[0;34m]\u001b[0m\u001b[0;34m,\u001b[0m \u001b[0mkeySig\u001b[0m\u001b[0;34m=\u001b[0m\u001b[0msigs\u001b[0m\u001b[0;34m[\u001b[0m\u001b[0mi\u001b[0m\u001b[0;34m]\u001b[0m\u001b[0;34m[\u001b[0m\u001b[0;36m1\u001b[0m\u001b[0;34m]\u001b[0m\u001b[0;34m)\u001b[0m\u001b[0;34m\u001b[0m\u001b[0m\n\u001b[0m",
      "\u001b[0;31mNameError\u001b[0m: name 'E_pred_mat' is not defined"
     ]
    }
   ],
   "source": [
    "for i in range(len(predicted_tempos)):\n",
    "            io_utils.eventListToMIDI(E_pred_mat[i], SIMPLE_BUCKETS, 400, \\\n",
    "                int(predicted_tempos[i]), filenames[i][:-4] + '_' + str(predicted_tempos[i]) + '.mid', OUTPUT_DIR, timeSig=sigs[i][0], keySig=sigs[i][1])"
   ]
  },
  {
   "cell_type": "code",
   "execution_count": null,
   "metadata": {
    "collapsed": true
   },
   "outputs": [],
   "source": []
  }
 ],
 "metadata": {
  "kernelspec": {
   "display_name": "Python 2",
   "language": "python",
   "name": "python2"
  },
  "language_info": {
   "codemirror_mode": {
    "name": "ipython",
    "version": 2
   },
   "file_extension": ".py",
   "mimetype": "text/x-python",
   "name": "python",
   "nbconvert_exporter": "python",
   "pygments_lexer": "ipython2",
   "version": "2.7.13"
  }
 },
 "nbformat": 4,
 "nbformat_minor": 2
}
